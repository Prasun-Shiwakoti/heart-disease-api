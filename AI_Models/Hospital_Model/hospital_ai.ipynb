{
 "cells": [
  {
   "cell_type": "code",
   "execution_count": 1,
   "id": "a5de200b",
   "metadata": {},
   "outputs": [],
   "source": [
    "import numpy as np\n",
    "import pandas as pd\n",
    "import matplotlib.pyplot as plt\n",
    "import seaborn as sns\n",
    "%matplotlib inline\n",
    "import warnings\n",
    "warnings.filterwarnings(\"ignore\")"
   ]
  },
  {
   "cell_type": "markdown",
   "id": "0d42b681",
   "metadata": {},
   "source": [
    "Importing some basic data analysis and visualization Python libraries."
   ]
  },
  {
   "cell_type": "markdown",
   "id": "a526e61f",
   "metadata": {},
   "source": [
    "**EXPLORATORY DATA ANALYSIS**<br>\n",
    "First we load our dataset and store it in pandas dataframe.<br>\n",
    "Here, we can observe different columns. Most of them have continuous values whereas some columns like target, cp, restecg, fbs, exang, slope, ca, thal look like they have categorical values.<br>\n",
    "One of the earliest things that can be observed are the unusual column names that don't give our much information. So, we renamed the columns so that they give out better information with reference to the source of the dataset(Kaggle)."
   ]
  },
  {
   "cell_type": "code",
   "execution_count": null,
   "id": "5cd9975c",
   "metadata": {},
   "outputs": [],
   "source": []
  }
 ],
 "metadata": {
  "kernelspec": {
   "display_name": "Python 3",
   "language": "python",
   "name": "python3"
  },
  "language_info": {
   "codemirror_mode": {
    "name": "ipython",
    "version": 3
   },
   "file_extension": ".py",
   "mimetype": "text/x-python",
   "name": "python",
   "nbconvert_exporter": "python",
   "pygments_lexer": "ipython3",
   "version": "3.9.4"
  }
 },
 "nbformat": 4,
 "nbformat_minor": 5
}
